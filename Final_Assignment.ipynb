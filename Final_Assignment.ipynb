{
 "cells": [
  {
   "cell_type": "markdown",
   "metadata": {},
   "source": [
    "## Python Assignment Applied Economic Analysis 1\n",
    "\n",
    "*Bram Heijstek (------) & Jiri van Baren (928727)*\n"
   ]
  },
  {
   "cell_type": "markdown",
   "metadata": {},
   "source": [
    "# Abstract\n",
    "\n",
    "This thesis aims to determine the effects that democracy has on economic growth, and the\n",
    "role which taxes play in the matter by presenting empirical evidence obtained through\n",
    "profound and extensive empirical analysis. We provide evidence for a positive and highly\n",
    "significant relationship of democracy on GDP growth. We show that after the transition from\n",
    "non-democracy to democracy GDP increases by 26 to 31% in the long run. Furthermore, we\n",
    "provide evidence for a positive and significant relationship between direct taxation and GDP\n",
    "growth where the results of our regression analysis suggest that a 1 percent increase of direct\n",
    "taxes relative to GDP will result in about a 0.258% increase of GDP per capita. Our empirical\n",
    "analysis consists of fixed-effects OLS regression analysis of a dynamic panel model for GDP\n",
    "which included autoregressive dynamics, as well as year and country fixed effects and\n",
    "various taxation variables."
   ]
  },
  {
   "cell_type": "markdown",
   "metadata": {},
   "source": [
    "# Introduction\n",
    "It is the age-old discussion: Democracy versus Autocracy. Looking back in history, we see\n",
    "that the first systems of ‘government’ were all autocratic, in fact the democratic system of\n",
    "which we have sufficient documentation does not emerge until 507 – 508 BC in the ancient\n",
    "Greek city Athens. This Greek origin of democracy can also be found through the etymology\n",
    "of the word ‘δημοκρατία dēmokratía’ meaning ‘rule by the people’ and consisting of the\n",
    "words demos ‘common people’ and kratos ‘strength’. What happens next is immeasurably\n",
    "fascinating, after the commencement of the democratic system Athens enters a golden age\n",
    "where it grows out to be the leading city-state of Ancient Greece. Although we can never be\n",
    "sure that this golden age was a direct effect of their democratization, they did nevertheless\n",
    "pave the way for our modern day democratic systems of government. Despite the success\n",
    "story of Athens, autocracy is still the dominant form of government for almost the upcoming\n",
    "two millennia. It was not until late 19th century that we saw a surge in democratic systems of\n",
    "government, in this period democracy became the dominant form of governing in the wealthy\n",
    "west part of the world. The process of democratization of the western part of the world\n",
    "happened in three waves, the so-called Huntington’s three waves. The first ‘long’ wave\n",
    "started in 1820 when the democratic system was instated in the United States. Soon after,\n",
    "numerous countries, including Britain, France and Italy, followed this political development\n",
    "and in the year 1926 the number of democratic countries amounted to 29. In the following\n",
    "period we see the number of democratic countries decline to 12 due to a rise in fascism and\n",
    "national-socialism. The most prominent countries to abandon the democratic systems during\n",
    "this period are of course Germany led by Hitler and Italy led by Mussolini. The second wave\n",
    "of democratization was initiated by the end of the Second World War where the number\n",
    "increased to 36 countries. The third wave occurred in the 70’s and 80’s mainly caused by\n",
    "global economic growth and the transition of national Catholic churches from defenders of\n",
    "the status quo to opponents of authoritarianism (Huntington, 1991). This first cause is in line\n",
    "with a paper written by Burkhart et al. (1994) where is concluded that economic development\n",
    "causes democratization. During this third wave at least another 30 countries transitioned from\n",
    "an authoritarian regime to a democratic government system. Most of these countries\n",
    "flourished on an economical level which led many people to believe that democracy is the\n",
    "superior system as for economic development. Nevertheless, there are also countries that\n",
    "thrive under their authoritarian regime. Take for instance China, which is a unitary one-party\n",
    "socialistic republic, and achieved an average GDP growth rate of 9.1% between 1992 and\n",
    "2010 with a historical high of 15.2%. Putting this in perspective, in the United States the\n",
    "average GDP growth between 1961 and 2017 amounted to 2.087% thus the statement that\n",
    "democratic systems of government are superior in respect to economic growth to\n",
    "authoritarian regimes cannot simply be taken as a universal truth.\n",
    "It is thus safe to say that the question which regime is better for economic development is not\n",
    "unambiguous and requires empirical analysis to draw a solid conclusion. This paper is aimed\n",
    "at drawing firm conclusions on the matter through extensive empirical research and,\n",
    "furthermore, to determine the role that taxation plays in this equation which we aim to\n",
    "achieve by answering the following research question; “What is the effect of democratization\n",
    "on GDP growth, and what role does Taxation play in the matter?”\n",
    "\n",
    "3\n",
    "In determining the economic effects of democracy it is crucial to determine the role of\n",
    "taxation in the democratic system of government since democratic and non-democratic\n",
    "systems of government systematically differ from each other in their taxation systems.\n",
    "Democratic countries tend to have higher direct taxes, i.e. Income taxes for individuals, for\n",
    "higher amounts of income than non-democratic countries which in turn discourages capital\n",
    "investment and thus impairs growth (Balamtasias, 2018) (Repetti, 2004). Next to this,\n",
    "democratic countries also differ in respect to non-democratic countries because they tend to\n",
    "spend their public resources more efficiently than non-democratic countries, which in turn is\n",
    "beneficial to economic growth (Adam, Delis & Kammas, 2009).\n",
    "In the first part of this paper the theoretical insights on the democracy-growth relationship\n",
    "will be extensively discussed along with the most recent empirical findings on the\n",
    "Democracy-growth relationship. The second part of this paper will consist of a specification\n",
    "of the data that will be used for our empirical analysis and of Descriptive Statistics for the\n",
    "main variables used in our regression analysis. In the third part of this paper the Methodology\n",
    "for the empirical analysis will be specified. The fourth part of this paper will consist of the\n",
    "actual results of our empirical analysis along with an elaborate interpretation of the estimated\n",
    "coefficients. The fifth part of this paper will be devoted to testing our empirical results for\n",
    "Robustness. The sixth and final part will consist of the conclusion of our empirical paper."
   ]
  },
  {
   "cell_type": "markdown",
   "metadata": {},
   "source": [
    "# Theoretical Framework\n"
   ]
  },
  {
   "cell_type": "markdown",
   "metadata": {},
   "source": [
    "# Results"
   ]
  },
  {
   "cell_type": "markdown",
   "metadata": {},
   "source": [
    "# Conclusion"
   ]
  },
  {
   "cell_type": "markdown",
   "metadata": {},
   "source": [
    "# *References*"
   ]
  },
  {
   "cell_type": "code",
   "execution_count": null,
   "metadata": {},
   "outputs": [],
   "source": []
  }
 ],
 "metadata": {
  "kernelspec": {
   "display_name": "Python 3",
   "language": "python",
   "name": "python3"
  },
  "language_info": {
   "codemirror_mode": {
    "name": "ipython",
    "version": 3
   },
   "file_extension": ".py",
   "mimetype": "text/x-python",
   "name": "python",
   "nbconvert_exporter": "python",
   "pygments_lexer": "ipython3",
   "version": "3.7.1"
  }
 },
 "nbformat": 4,
 "nbformat_minor": 4
}
